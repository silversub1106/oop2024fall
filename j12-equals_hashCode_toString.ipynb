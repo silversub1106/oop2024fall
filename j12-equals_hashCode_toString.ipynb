{
 "cells": [
  {
   "cell_type": "markdown",
   "metadata": {},
   "source": [
    "# Implementing equals()/hashCode() and toString()\n"
   ]
  },
  {
   "cell_type": "markdown",
   "metadata": {},
   "source": [
    "## Why equals()/hashCode() and toString() are important\n",
    "Those methods are used by the data structures (list, map) to implement operations\n",
    "like add(), contains(), etc. So most of the data structure doesn't work\n",
    "correctly if `equals()`/`hashCode()` and `toString()` are not correctly written\n",
    "on the element.\n"
   ]
  },
  {
   "cell_type": "markdown",
   "metadata": {},
   "source": [
    "By example, `ArraysList.contains(value)` uses `value.equals()`,\n",
    "`HashMap.get(key)` uses both `key.hashCode()` and `key.equals()`.\n"
   ]
  },
  {
   "cell_type": "markdown",
   "metadata": {},
   "source": [
    "## Default implementations from java.lang.Object\n",
    "Object defines several methods and provide a default implementation for them\n",
    "- `boolean equals(Object)`\n",
    "  test if two objects are equals (same type and same values), but\n",
    "  the default implementation do an ==, so only check if the two objects are at\n",
    "  the same address in memory\n",
    "- `int hashCode()`\n",
    "  return a summary of the content of the object as an int\n",
    "  the default implementation choose a random number when the object is created\n",
    "- `String toString()`\n",
    "  return a textual representation of the object\n",
    "  the default implementation return a concatenation of the \n"
   ]
  },
  {
   "cell_type": "code",
   "execution_count": 1,
   "metadata": {},
   "outputs": [],
   "source": [
    "class Color {\n",
    "    private final String value;\n",
    "    Color(String value) {\n",
    "        this.value = Objects.requireNonNull( value ); // value에 null이 들어오면 오류를 발생시킴\n",
    "    }\n",
    "    \n",
    "}"
   ]
  },
  {
   "cell_type": "code",
   "execution_count": 2,
   "metadata": {},
   "outputs": [
    {
     "ename": "EvalException",
     "evalue": "",
     "output_type": "error",
     "traceback": [
      "\u001b[0m\u001b[1m\u001b[31mjava.lang.NullPointerException: null\n\u001b[0m",
      "\u001b[0m\u001b[1m\u001b[34m   at java.base/java.util.Objects.requireNonNull(Objects.java:220)\u001b[0m",
      "\u001b[0m\u001b[1m\u001b[34m   at Color.<init>(#2:4)\u001b[0m",
      "\u001b[0m\u001b[0m\u001b[1m|    class Color {\u001b[0m",
      "\u001b[0m\u001b[0m\u001b[1m|        private final String value;\u001b[0m",
      "\u001b[0m\u001b[0m\u001b[1m|        Color(String value) {\u001b[0m",
      "\u001b[0m\u001b[0m\u001b[1m|-->         this.value = Objects.requireNonNull( value ); // value에 null이 들어오면 오류를 발생시킴\u001b[0m",
      "\u001b[0m\u001b[0m\u001b[1m|        }\u001b[0m",
      "\u001b[0m\u001b[0m\u001b[1m|        \u001b[0m",
      "\u001b[0m\u001b[0m\u001b[1m|    }\u001b[0m",
      "\u001b[0m\u001b[1m\u001b[34m   at .(#3:1)\u001b[0m",
      "\u001b[0m\u001b[0m\u001b[1m|--> new Color(null);\u001b[0m"
     ]
    }
   ],
   "source": [
    "new Color(null);"
   ]
  },
  {
   "cell_type": "markdown",
   "metadata": {},
   "source": [
    "So the default implementations only ensure that an object is equals to itself.\n"
   ]
  },
  {
   "cell_type": "code",
   "execution_count": 3,
   "metadata": {},
   "outputs": [],
   "source": [
    "var c1 = new Color(\"red\");\n",
    "var c2 = c1; // 공유\n",
    "var c3 = new Color(\"red\"); // 내용(즉, value 멤버의 내용)만 같음"
   ]
  },
  {
   "cell_type": "code",
   "execution_count": 4,
   "metadata": {},
   "outputs": [
    {
     "data": {
      "text/plain": [
       "[true, true, false]"
      ]
     },
     "execution_count": 4,
     "metadata": {},
     "output_type": "execute_result"
    }
   ],
   "source": [
    "// 기본 동작, 즉 Object 조상님에게 물려받은 동작은 == 과 같은 결과\n",
    "List.of( c1.equals(c1), c1.equals(c2), c1.equals(c3) )"
   ]
  },
  {
   "cell_type": "code",
   "execution_count": 5,
   "metadata": {},
   "outputs": [
    {
     "data": {
      "text/plain": [
       "[true, true, false]"
      ]
     },
     "execution_count": 5,
     "metadata": {},
     "output_type": "execute_result"
    }
   ],
   "source": [
    "List.of( c1==c1, c1==c2, c1==c3 )"
   ]
  },
  {
   "cell_type": "markdown",
   "metadata": {},
   "source": [
    "## Writing your own equals()/hashCode()\n",
    "- `equals()` must be valid for any object and returns false if it's not the right type\n",
    "  so it starts with an `instanceof` and calls `equals()` if the field value\n",
    "  is a reference.\n",
    "- `hashCode()` delegates to the hashCode of the field value\n"
   ]
  },
  {
   "cell_type": "code",
   "execution_count": 6,
   "metadata": {},
   "outputs": [
    {
     "name": "stdout",
     "output_type": "stream",
     "text": [
      "true\n",
      "true\n",
      "User Bob\n"
     ]
    }
   ],
   "source": [
    "class User {\n",
    "  private final String name;\n",
    "  public User(String name) {\n",
    "    this.name = Objects.requireNonNull(name);\n",
    "  }\n",
    "    \n",
    "  // Object로부터 물려받은 equals를 쓰지 않고 정의를 덮어쓰는 Overriding\n",
    "  @Override // @Override 어노테이션은 꼭 쓰는 것을 습관으로\n",
    "  public boolean equals(Object o) {\n",
    "    return o instanceof User user &&\n",
    "      name.equals(user.name); // 이 줄은 String 객체의 equals를 호출\n",
    "  }\n",
    "\n",
    "  @Override\n",
    "  public int hashCode() {\n",
    "    return name.hashCode();\n",
    "  }\n",
    "    \n",
    "  @Override\n",
    "  public String toString() {\n",
    "    return \"User \" + name;\n",
    "  }\n",
    "}\n",
    "var user1 = new User(\"Bob\");\n",
    "var user2 = new User(\"Bob\");\n",
    "System.out.println(user1.equals(user2));\n",
    "System.out.println(user1.hashCode() == user2.hashCode());\n",
    "System.out.println(user1);\n"
   ]
  },
  {
   "cell_type": "markdown",
   "metadata": {},
   "source": [
    "### With two fields\n",
    "- `equals()`, it's better to first check the primitive fields because a primitive check\n",
    "  is usually faster than a call to `equals()`. \n",
    "- `hashCode()` can use the exclusive or `^` to mix the hash code.\n"
   ]
  },
  {
   "cell_type": "code",
   "execution_count": 7,
   "metadata": {},
   "outputs": [
    {
     "name": "stdout",
     "output_type": "stream",
     "text": [
      "true\n",
      "true\n",
      "User Bob 31\n"
     ]
    }
   ],
   "source": [
    "class User {\n",
    "  private final String name;\n",
    "  private final int age;\n",
    "  public User(String name, int age) {\n",
    "    this.name = Objects.requireNonNull(name);\n",
    "    this.age = age;\n",
    "  }\n",
    "  public boolean equals(Object o) {\n",
    "    return o instanceof User user &&\n",
    "      age == user.age && name.equals(user.name);\n",
    "  }\n",
    "  public int hashCode() {\n",
    "    return name.hashCode() ^ age;\n",
    "  }\n",
    "  public String toString() {\n",
    "    return \"User \" + name + \" \" + age;\n",
    "  }\n",
    "}\n",
    "var user1 = new User(\"Bob\", 31);\n",
    "var user2 = new User(\"Bob\", 31);\n",
    "System.out.println(user1.equals(user2));\n",
    "System.out.println(user1.hashCode() == user2.hashCode());\n",
    "System.out.println(user1);\n"
   ]
  },
  {
   "cell_type": "markdown",
   "metadata": {},
   "source": [
    "### With several fields\n",
    "- equals(), as said in chapter 'basic_types', array.equals() doesn't work,\n",
    "  Arrays.equals() should be used instead\n",
    "- hashCode(), `Object.hash` compute the hash of several values separated by commas. \n"
   ]
  },
  {
   "cell_type": "code",
   "execution_count": 8,
   "metadata": {},
   "outputs": [],
   "source": [
    "class User {\n",
    "    private final String name;\n",
    "    private final int age;\n",
    "    private final String login;\n",
    "    private final char[] password;\n",
    "    \n",
    "    public User(String name, int age, String login, char[] password) {\n",
    "        this.name = Objects.requireNonNull(name);\n",
    "        this.age = age;\n",
    "        this.login = Objects.requireNonNull(login);\n",
    "        this.password = password.clone();\n",
    "    }\n",
    "    \n",
    "    public boolean equals(Object o) {\n",
    "        return o instanceof User user &&\n",
    "            // hashCode를 비교하면 내용이 같지 않은 경우를 더 효과적으로 걸러낼 수 있다\n",
    "            this.hashCode() == o.hashCode() && \n",
    "            // hashCode를 비교한 이후에 각각의 필드를 비교\n",
    "            this.age == user.age &&\n",
    "            this.name.equals(user.name) &&\n",
    "            this.login.equals(user.login) &&\n",
    "            Arrays.equals(this.password, user.password);\n",
    "    }\n",
    "  \n",
    "    public int hashCode() {\n",
    "        return Objects.hash(name, age, login, Arrays.hashCode(password));\n",
    "    }\n",
    "    \n",
    "    public String toString() {\n",
    "        return \"User \" + name + \" \" + age + \" \" + login + \" \" + \"*\".repeat(password.length);\n",
    "    }\n",
    "}"
   ]
  },
  {
   "cell_type": "code",
   "execution_count": 9,
   "metadata": {},
   "outputs": [
    {
     "name": "stdout",
     "output_type": "stream",
     "text": [
      "true\n",
      "823909188\n",
      "823909188\n",
      "true\n",
      "User Bob 31 bob ****************************************\n"
     ]
    }
   ],
   "source": [
    "var user1 = new User(\"Bob\", 31, \"bob\", \"df15cb4e019ec2eac654fb2e486c56df285c8c7b\".toCharArray());\n",
    "var user2 = new User(\"Bob\", 31, \"bob\", \"df15cb4e019ec2eac654fb2e486c56df285c8c7b\".toCharArray());\n",
    "\n",
    "System.out.println(user1.equals(user2));\n",
    "System.out.println(user1.hashCode());\n",
    "System.out.println(user2.hashCode());\n",
    "System.out.println(user1.hashCode() == user2.hashCode());\n",
    "System.out.println(user1);"
   ]
  },
  {
   "cell_type": "markdown",
   "metadata": {},
   "source": [
    "## Record implementation\n"
   ]
  },
  {
   "cell_type": "markdown",
   "metadata": {},
   "source": [
    "For a record, the methods `equals()`/`hashCode()` and `toString()` are already provided\n",
    "so usually you don't have to provide a new implementation.\n"
   ]
  },
  {
   "cell_type": "code",
   "execution_count": 10,
   "metadata": {},
   "outputs": [
    {
     "name": "stdout",
     "output_type": "stream",
     "text": [
      "true\n",
      "true\n",
      "User[name=Bob, age=31]\n"
     ]
    }
   ],
   "source": [
    "record User(String name, int age) {\n",
    "  public User {\n",
    "    Objects.requireNonNull(name);\n",
    "  }\n",
    "  // the compiler automatically adds equals/hashCode/toString !\n",
    "}\n",
    "var user1 = new User(\"Bob\", 31);\n",
    "var user2 = new User(\"Bob\", 31);\n",
    "System.out.println(user1.equals(user2));\n",
    "System.out.println(user1.hashCode() == user2.hashCode());\n",
    "System.out.println(user1);\n"
   ]
  }
 ],
 "metadata": {
  "kernelspec": {
   "display_name": "Java (rjk 2.1.0)",
   "language": "java",
   "name": "rapaio-jupyter-kernel"
  },
  "language_info": {
   "codemirror_mode": "java",
   "file_extension": ".jshell",
   "mimetype": "text/x-java-source",
   "name": "java",
   "nbconvert_exporter": "script",
   "pygments_lexer": "java",
   "version": "22.0.2+9"
  }
 },
 "nbformat": 4,
 "nbformat_minor": 4
}
