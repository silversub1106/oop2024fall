{
 "cells": [
  {
   "cell_type": "markdown",
   "id": "0c6ac1f1-251e-4495-ba20-238a1dd50e8d",
   "metadata": {},
   "source": [
    "이름: 이은섭"
   ]
  },
  {
   "cell_type": "markdown",
   "id": "4e22c321-f954-43b3-bd87-b315a101af2b",
   "metadata": {},
   "source": [
    "학번: 20210508"
   ]
  },
  {
   "cell_type": "code",
   "execution_count": 11,
   "id": "d7f51a56-1afa-4e29-a1af-7da5ed12fff7",
   "metadata": {},
   "outputs": [
    {
     "ename": "CompilerException",
     "evalue": "",
     "output_type": "error",
     "traceback": [
      "\u001b[0m\u001b[1m\u001b[31mCompile error:\u001b[0m",
      "\u001b[0m\u001b[1m|    display(ImageIO.read(new \u001b[0m\u001b[1m\u001b[48;2;235;145;148mURL\u001b[0m\u001b[1m(\"https://mermaid.ink/img/\"+Base64.getEncoder().encodeToString(mmgraph.getBytes()))));\u001b[0m",
      "\u001b[0m\u001b[1m\u001b[34mcannot find symbol\u001b[0m",
      "\u001b[0m\u001b[1m\u001b[34m  symbol:   class URL\u001b[0m",
      ""
     ]
    }
   ],
   "source": [
    "import javax.imageio.*;\n",
    "\n",
    "var mmgraph = \"\"\"\n",
    "graph LR;\n",
    "    서울 --> 원주 --> 평창 --> 강릉\n",
    "    원주 --> 안동\n",
    "    서울 --> 천안 --> 대전 & 공주\n",
    "    대전 --> 대구 --> 부산\n",
    "    공주 --> 익산 --> 광주 --> 목포\n",
    "    대전 --> 익산 --> 전주 --> 여수\n",
    "\"\"\";\n",
    "\n",
    "display(ImageIO.read(new URL(\"https://mermaid.ink/img/\"+Base64.getEncoder().encodeToString(mmgraph.getBytes()))));\n"
   ]
  },
  {
   "cell_type": "code",
   "execution_count": 4,
   "id": "585289fc-08f6-4ce6-a421-2efb1ae8a39a",
   "metadata": {},
   "outputs": [],
   "source": [
    "record Graph(Map< String, List<String> > adjList) {\n",
    "    // 레코드의 기본 생성자를 사용자가 직접 정의\n",
    "    public Graph(Map< String, List<String> > adjList) {\n",
    "        // 이렇게만 하면 캡슐화 원리가 지켜지지 않음!!! 생성자도 수정 필요  (필수)\n",
    "        this.adjList = Objects.requireNonNull(adjList);\n",
    "        throw new UnsupportedOperationException(\"Not implemented yet\");\n",
    "    }\n",
    "    \n",
    "    // Returns the list of all nodes adjacent from the `orig` node.\n",
    "    // Returns null if `orig` is not a valid node of the graph.\n",
    "    // orig 노드로부터 화살표로 직접 연결된 모든 노드들의 리스트를 리턴한다.\n",
    "    // orig가 그래프의 노드가 아닌 경우는 null을 리턴한다.\n",
    "    public List<String> adjFrom(String orig) {\n",
    "        // 적절한 코드 작성 (필수)\n",
    "        throw new UnsupportedOperationException(\"Not implemented yet\");\n",
    "    }\n",
    "\n",
    "    // 필수가 아닌 선택사항\n",
    "    public boolean hasPath(String orig, String dest) {\n",
    "        throw new UnsupportedOperationException(\"Not implemented yet\");\n",
    "    }    \n",
    "}"
   ]
  },
  {
   "cell_type": "code",
   "execution_count": null,
   "id": "3e5d9bac-a2cb-419e-8097-c15f6ffab13a",
   "metadata": {},
   "outputs": [],
   "source": []
  }
 ],
 "metadata": {
  "kernelspec": {
   "display_name": "Java (rjk 2.1.0)",
   "language": "java",
   "name": "rapaio-jupyter-kernel"
  },
  "language_info": {
   "codemirror_mode": "java",
   "file_extension": ".jshell",
   "mimetype": "text/x-java-source",
   "name": "java",
   "nbconvert_exporter": "script",
   "pygments_lexer": "java",
   "version": "22.0.2+9"
  }
 },
 "nbformat": 4,
 "nbformat_minor": 5
}
