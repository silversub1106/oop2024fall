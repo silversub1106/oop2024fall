{
 "cells": [
  {
   "cell_type": "markdown",
   "metadata": {},
   "source": [
    "# Inheritance\n"
   ]
  },
  {
   "cell_type": "markdown",
   "metadata": {},
   "source": [
    "역사적으로, 상속(inheritance)이 객체지향 프로그래밍을 홍보하기 위한 수단으로 활용된 측면이 있지만,\n",
    "사실은 상속이라는 게 그렇게 떠들고 다닌 만큼 중요한가 생각해보면 그만큼은 아니라는 것이다."
   ]
  },
  {
   "cell_type": "markdown",
   "metadata": {},
   "source": [
    "상속은 어떤 상위(부모) 클래스 `A`를 정의/구현 일부를 다른 하위(자녀) 클래스 `B`를 정의/구현할 때 재사용하며자는 아이디어에서 비롯되었다.\n",
    "\n",
    "이 때, `B`는 `A`의 일부분을 이루는 하위 개념이어야 한다."
   ]
  },
  {
   "cell_type": "code",
   "execution_count": 1,
   "metadata": {},
   "outputs": [],
   "source": [
    "class A /* extends Object */ {\n",
    "}\n",
    "\n",
    "class B extends A {  // 클래스 A에 정의된 구현을 재사용하면서 다른 내용을 추가하려 할 때 상속을 활용\n",
    "}"
   ]
  },
  {
   "cell_type": "markdown",
   "metadata": {},
   "source": [
    "Precisely, inheritance is 3 different things grouped together \n",
    "- __subtyping__\n",
    "  everywhere something is typed `A`, you can send a `B` instead\n",
    "- __members inheritance__\n",
    "  all instance members of `A` are copied in `B`\n",
    "- __polymorphism__\n",
    "  you can replace the code of a method from `A` to adapt it to `B`\n"
   ]
  },
  {
   "cell_type": "markdown",
   "metadata": {},
   "source": [
    "## Subtyping\n",
    "Subtyping is the most important part of the inheritance, it allows to reuse\n",
    "an existing code written for an `A` with an instance of `B`.\n"
   ]
  },
  {
   "cell_type": "markdown",
   "metadata": {},
   "source": [
    "let suppose, I have a method `sayHello()` for a `A`\n"
   ]
  },
  {
   "cell_type": "code",
   "execution_count": 2,
   "metadata": {},
   "outputs": [
    {
     "name": "stdout",
     "output_type": "stream",
     "text": [
      "hello REPL.$JShell$2$A@69b75982\n"
     ]
    }
   ],
   "source": [
    "class A {\n",
    "}\n",
    "\n",
    "void sayHello(A a) {\n",
    "  System.out.println(\"hello \" + a);\n",
    "}\n",
    "\n",
    "var a = new A();\n",
    "sayHello(a);\n"
   ]
  },
  {
   "cell_type": "markdown",
   "metadata": {},
   "source": [
    "if I create a `B` that inherits `A`, then i can use instance of `B`\n",
    "as argument of `hello()`.\n"
   ]
  },
  {
   "cell_type": "code",
   "execution_count": 3,
   "metadata": {},
   "outputs": [
    {
     "name": "stdout",
     "output_type": "stream",
     "text": [
      "hello REPL.$JShell$3$B@38117c0\n"
     ]
    }
   ],
   "source": [
    "class B extends A {  // so B is a subtype of A\n",
    "}\n",
    "\n",
    "var b = new B();\n",
    "sayHello(b); // A를 받는 함수인데 A를 상속받은 하위 타입인 B객체를 넘길 수 있음"
   ]
  },
  {
   "cell_type": "markdown",
   "metadata": {},
   "source": [
    "__subtyping__ 하위타입 is very important, because it means that we can reuse a\n",
    "method by calling it with several different types. And given that,\n",
    "The more a method is used, the less buggy it is, _subtyping_ helps\n",
    "to make applications more robust by sharing methods.\n"
   ]
  },
  {
   "cell_type": "markdown",
   "metadata": {},
   "source": [
    "## Polymorphism\n",
    "Polymorphism works with __subtyping__, __subtyping__ allow to call a\n",
    "code with a subtype of the declared type. Polymorphism allows to\n",
    "adapt parts of the shared code to the subclass at runtime.\n"
   ]
  },
  {
   "cell_type": "markdown",
   "metadata": {},
   "source": [
    "By example, let suppose we have a class able to 'enhance' a text\n",
    "by making it more beautiful\n"
   ]
  },
  {
   "cell_type": "code",
   "execution_count": 4,
   "metadata": {},
   "outputs": [
    {
     "name": "stdout",
     "output_type": "stream",
     "text": [
      "hello _polymorphism_\n"
     ]
    }
   ],
   "source": [
    "class Enhancer {\n",
    "  String enhance(String text) {\n",
    "    return \"_\" + text + \"_\";\n",
    "  }\n",
    "}\n",
    "\n",
    "void sayHello(Enhancer enhancer, String text) {\n",
    "  System.out.println(\"hello \" + enhancer.enhance(text));\n",
    "}\n",
    "\n",
    "Enhancer enhancer = new Enhancer();\n",
    "sayHello(enhancer, \"polymorphism\");\n"
   ]
  },
  {
   "cell_type": "markdown",
   "metadata": {},
   "source": [
    "\n"
   ]
  },
  {
   "cell_type": "code",
   "execution_count": 5,
   "metadata": {},
   "outputs": [
    {
     "name": "stdout",
     "output_type": "stream",
     "text": [
      "hello *polymorphism*\n"
     ]
    }
   ],
   "source": [
    "class StarEnhancer extends Enhancer {\n",
    "    @Override\n",
    "    String enhance(String text) {\n",
    "        return \"*\" + text + \"*\";\n",
    "    }\n",
    "}\n",
    "\n",
    "\n",
    "StarEnhancer enhancer = new StarEnhancer();\n",
    "sayHello(enhancer, \"polymorphism\");\n"
   ]
  },
  {
   "cell_type": "markdown",
   "metadata": {},
   "source": [
    "So not only we can call `sayHello()` with a `StarEnhancer` (__subtyping__),\n",
    "but inside `sayHello()`, the method call to `enhance()` will call\n",
    "the methode `StarEnhancer.enhance()` adapting the code of `hello()`\n",
    "to the fact that at runtime the enhancer is in fact a `StarEnhancer`.\n"
   ]
  },
  {
   "cell_type": "markdown",
   "metadata": {},
   "source": [
    "The mechanism that choose the `right` method in function of the object\n",
    "at runtime is called (subtype) __polymorphism__.\n"
   ]
  },
  {
   "cell_type": "markdown",
   "metadata": {},
   "source": [
    "### Overriding\n",
    "In the example above, `enhancer.enhance()` inside the method `sayHello()`\n",
    "can call `Enhancer.enhance()` or `StarEnhancer.enhance()`.\n",
    "We say that the method `enhance()` of  `StarEnhancer` __overrides__\n",
    "the method `enhance()` of  `Enhancer`.\n"
   ]
  },
  {
   "cell_type": "markdown",
   "metadata": {},
   "source": [
    "A method to __override__ another has to\n",
    "- have the same name\n",
    "- have the same number of parameter\n",
    "- can have a subtype as return type\n",
    "- can have subtypes of the declared exceptions (`throws`).  \n"
   ]
  },
  {
   "cell_type": "markdown",
   "metadata": {},
   "source": [
    "### `@Override`\n",
    "You can notice in the code below that we are using the annotation\n",
    "`@Override`. It is an annotation to document that the method\n",
    "override an existing method. The compiler also verifies that\n",
    "there is  a method in the base class with the same parameter types.\n"
   ]
  },
  {
   "cell_type": "code",
   "execution_count": 6,
   "metadata": {},
   "outputs": [
    {
     "name": "stdout",
     "output_type": "stream",
     "text": [
      "hello *polymorphism*\n"
     ]
    }
   ],
   "source": [
    "class Enhancer {\n",
    "  String enhance(String text) {\n",
    "    return \"_\" + text + \"_\";\n",
    "  }\n",
    "}\n",
    "void sayHello(Enhancer enhancer, String text) {\n",
    "  System.out.println(\"hello \" + enhancer.enhance(text));\n",
    "}\n",
    "class StarEnhancer extends Enhancer {\n",
    "  @Override  // <-- aah\n",
    "  String enhance(String text) {\n",
    "    return \"*\" + text + \"*\";\n",
    "  }\n",
    "}\n",
    "var enhancer = new StarEnhancer();\n",
    "sayHello(enhancer, \"polymorphism\");\n"
   ]
  },
  {
   "cell_type": "markdown",
   "metadata": {},
   "source": [
    "The annotation is not used by the runtime so it just make\n",
    "the code easier to understand for a human.\n"
   ]
  },
  {
   "cell_type": "markdown",
   "metadata": {},
   "source": [
    "### Calling a method using `super.`\n",
    "The method that override another one can call the method it replace\n",
    "using the syntax `super.enhance(...)`.\n"
   ]
  },
  {
   "cell_type": "code",
   "execution_count": 7,
   "metadata": {},
   "outputs": [
    {
     "name": "stdout",
     "output_type": "stream",
     "text": [
      "hello *_polymorphism_*\n"
     ]
    }
   ],
   "source": [
    "class Enhancer {\n",
    "  String enhance(String text) {\n",
    "    return \"_\" + text + \"_\";\n",
    "  }\n",
    "}\n",
    "class StarEnhancer extends Enhancer {\n",
    "  @Override\n",
    "  String enhance(String text) {\n",
    "    return \"*\" + super.enhance(text) + \"*\";\n",
    "  }\n",
    "}\n",
    "var enhancer = new StarEnhancer();\n",
    "sayHello(enhancer, \"polymorphism\");\n"
   ]
  },
  {
   "cell_type": "markdown",
   "metadata": {},
   "source": [
    "## Field inheritance\n",
    "And last, when a class inherits from another one, then\n",
    "all the fields and methods defined in the super class\n",
    "are defined in the subclass.\n"
   ]
  },
  {
   "cell_type": "markdown",
   "metadata": {},
   "source": [
    "Here by example, the field `name` defined in `Animal`\n",
    "is also _implicily_ defined in `Lion`.\n"
   ]
  },
  {
   "cell_type": "code",
   "execution_count": 8,
   "metadata": {},
   "outputs": [
    {
     "name": "stdout",
     "output_type": "stream",
     "text": [
      "leo roar\n"
     ]
    }
   ],
   "source": [
    "class Animal {\n",
    "  String name;\n",
    "}\n",
    "class Lion extends Animal {\n",
    "  boolean young;\n",
    "  void roar() {\n",
    "    System.out.println(name + \" roar\");\n",
    "  }\n",
    "}\n",
    "var lion = new Lion();\n",
    "lion.name = \"leo\";\n",
    "lion.young = true;\n",
    "lion.roar();\n"
   ]
  },
  {
   "cell_type": "markdown",
   "metadata": {},
   "source": [
    "This mechanism is controversial because if the implementation of\n",
    "`Animal` change, the implementation of `Lion` has to be changed too.\n",
    "So a super class and a subclass are tightly bound to the point\n",
    "it's hard to maintain an application if the maintainer of the super class\n",
    "and the sub class are not the same person.\n"
   ]
  },
  {
   "cell_type": "markdown",
   "metadata": {},
   "source": [
    "> It's discouraged to inherits from a class you don't control.\n"
   ]
  },
  {
   "cell_type": "markdown",
   "metadata": {},
   "source": [
    "### Constructor and inheritance\n",
    "In Java, the initialization of the super class has to be done first,\n",
    "before the initialization of the subclass.\n",
    "It's mandatory that the first statement of the constructor of the subclass\n",
    "to call the constructor of the super class.\n"
   ]
  },
  {
   "cell_type": "markdown",
   "metadata": {},
   "source": [
    "With a class `Point`\n"
   ]
  },
  {
   "cell_type": "code",
   "execution_count": 9,
   "metadata": {},
   "outputs": [
    {
     "name": "stdout",
     "output_type": "stream",
     "text": [
      "x: 1 y: 5\n"
     ]
    }
   ],
   "source": [
    "class Point {\n",
    "  private final int x;\n",
    "  private final int y;\n",
    "  Point(int x, int y) {\n",
    "    this.x = x;\n",
    "    this.y = y;\n",
    "  }\n",
    "  @Override\n",
    "  public String toString() {\n",
    "    return \"x: \" + x + \" y: \" + y;\n",
    "  }\n",
    "}\n",
    "\n",
    "var point = new Point(1, 5);\n",
    "\n",
    "System.out.println(point);"
   ]
  },
  {
   "cell_type": "markdown",
   "metadata": {},
   "source": [
    "If the class `Point3D` inherits from `Point`, then the first statement of\n",
    "the constructor has to be a call to the constructor of the super class\n",
    "using the syntax `super(...)`.\n"
   ]
  },
  {
   "cell_type": "code",
   "execution_count": 10,
   "metadata": {},
   "outputs": [
    {
     "name": "stdout",
     "output_type": "stream",
     "text": [
      "x: 2 y: 4 z: 7\n"
     ]
    }
   ],
   "source": [
    "class Point3D extends Point {\n",
    "  private final int z;\n",
    "  Point3D(int x, int y, int z) {\n",
    "      // this.x = x; 이건 에러\n",
    "      // this.y = y;  왜냐하면 부모님 사생활임 private\n",
    "      super(x, y);  // call constructor of the super class\n",
    "      this.z = z;\n",
    "  }\n",
    "  @Override\n",
    "  public String toString() {\n",
    "    return super.toString() + \" z: \" + z;\n",
    "  }\n",
    "}\n",
    "\n",
    "var point3D = new Point3D(2, 4, 7);\n",
    "\n",
    "System.out.println(point3D);"
   ]
  },
  {
   "cell_type": "markdown",
   "metadata": {},
   "source": [
    "> Note: that unlike the other members of a class, constructors are not inherited.\n"
   ]
  },
  {
   "cell_type": "markdown",
   "metadata": {},
   "source": [
    "## Members inheritance and encapsulation\n",
    "We have seen that to have encapsulation, we have to declare the fields `private`.\n",
    "But with inheritance, a private field declared in the super class is present\n",
    "in the subclass but not accessible.\n"
   ]
  },
  {
   "cell_type": "markdown",
   "metadata": {},
   "source": [
    "Here the field `roomPrice` is inherited in `Palace` but can not be accessed\n",
    "in the method `price()` of the class `Palace` which doesn't compile \n"
   ]
  },
  {
   "cell_type": "code",
   "execution_count": 11,
   "metadata": {},
   "outputs": [
    {
     "ename": "CompilerException",
     "evalue": "",
     "output_type": "error",
     "traceback": [
      "\u001b[0m\u001b[1m\u001b[31mCompile error:\u001b[0m",
      "\u001b[0m\u001b[1;30m|    class Palace extends Hotel {\u001b[0m",
      "\u001b[0m\u001b[1;30m|      private final int extra;\u001b[0m",
      "\u001b[0m\u001b[1;30m|      public Palace(int roomPrice, int extra) {\u001b[0m",
      "\u001b[0m\u001b[1;30m|        super(roomPrice);\u001b[0m",
      "\u001b[0m\u001b[1;30m|        this.extra = extra;\u001b[0m",
      "\u001b[0m\u001b[1;30m|      }\u001b[0m",
      "\u001b[0m\u001b[1;30m|      public int price(int rooms) {\u001b[0m",
      "\u001b[0m\u001b[1m|        return rooms * (\u001b[0m\u001b[1m\u001b[48;2;235;145;148mroomPrice\u001b[0m\u001b[1m + extra);  // don't compile !\u001b[0m",
      "\u001b[0m\u001b[1;30m|      }\u001b[0m",
      "\u001b[0m\u001b[1;30m|    }\u001b[0m",
      "\u001b[0m\u001b[1m\u001b[34mroomPrice has private access in Hotel\u001b[0m",
      ""
     ]
    }
   ],
   "source": [
    "class Hotel {\n",
    "  private final int roomPrice;\n",
    "  public Hotel(int roomPrice) {\n",
    "    this.roomPrice = roomPrice;\n",
    "  }\n",
    "  public int price(int rooms) {\n",
    "    return rooms * roomPrice;\n",
    "  }\n",
    "}\n",
    "class Palace extends Hotel {\n",
    "  private final int extra;\n",
    "  public Palace(int roomPrice, int extra) {\n",
    "    super(roomPrice);\n",
    "    this.extra = extra;\n",
    "  }\n",
    "  public int price(int rooms) {\n",
    "    return rooms * (roomPrice + extra);  // don't compile !\n",
    "  }\n",
    "}\n"
   ]
  },
  {
   "cell_type": "markdown",
   "metadata": {},
   "source": [
    "The usual practice is to declare the super class and the subclass\n",
    "in the same package so declaring the field `roomPrice` with no keyword\n",
    "make it visible to the subclass\n"
   ]
  },
  {
   "cell_type": "code",
   "execution_count": 12,
   "metadata": {},
   "outputs": [
    {
     "name": "stdout",
     "output_type": "stream",
     "text": [
      "300\n"
     ]
    }
   ],
   "source": [
    "class Hotel {\n",
    "  /*package*/ final int roomPrice;\n",
    "  public Hotel(int roomPrice) {\n",
    "    this.roomPrice = roomPrice;\n",
    "  }\n",
    "  public int price(int rooms) {\n",
    "    return rooms * roomPrice;\n",
    "  }\n",
    "}\n",
    "class Palace extends Hotel {\n",
    "  private final int extra;\n",
    "  public Palace(int roomPrice, int extra) {\n",
    "    super(roomPrice);\n",
    "    this.extra = extra;\n",
    "  }\n",
    "  public int price(int rooms) {\n",
    "    return rooms * (roomPrice + extra);\n",
    "  }\n",
    "}\n",
    "var palace = new Palace(100, 50);\n",
    "System.out.println(palace.price(2));\n"
   ]
  },
  {
   "cell_type": "markdown",
   "metadata": {},
   "source": [
    "### Field protected\n",
    "In the code above, one can use the modifier `protected` too but\n",
    "because a `protected` field is visible by any subclass even the one\n",
    "the author of the subclass do not control. It means that the field\n",
    "can not be changed the same way a `public` field can not be changed.\n"
   ]
  },
  {
   "cell_type": "markdown",
   "metadata": {},
   "source": [
    "> Never use the keyword protected in Java.\n"
   ]
  },
  {
   "cell_type": "markdown",
   "metadata": {},
   "source": [
    "## Relation with interfaces\n",
    "Nowadays, inheritance is used less and less in Java because interface\n",
    "provides __subtyping__ and __overriding__ without __members inheritance__.\n",
    "Given that the later mechanism is the one causing trouble,\n",
    "using an interface is often preferred to using inheritance.\n"
   ]
  },
  {
   "cell_type": "markdown",
   "metadata": {},
   "source": [
    "### Records doesn't support inheritance\n",
    "Records doesn't support inheritance because it's so simple to declare\n",
    "a new record component that trying to share them will result into more\n",
    "code that necessary.\n"
   ]
  },
  {
   "cell_type": "markdown",
   "metadata": {},
   "source": [
    "Here is the class `Hotel` and `Palace` rewritten without inheritance\n"
   ]
  },
  {
   "cell_type": "code",
   "execution_count": 13,
   "metadata": {},
   "outputs": [
    {
     "name": "stdout",
     "output_type": "stream",
     "text": [
      "200\n",
      "300\n"
     ]
    }
   ],
   "source": [
    "interface Bookable {\n",
    "  int price(int rooms);  \n",
    "}\n",
    "record Hotel(int roomPrice) implements Bookable {\n",
    "  public int price(int rooms) {\n",
    "    return rooms * roomPrice;\n",
    "  }\n",
    "}\n",
    "record Palace(int roomPrice, int extra) implements Bookable {\n",
    "  public int price(int rooms) {\n",
    "    return rooms * (roomPrice + extra);\n",
    "  }\n",
    "}\n",
    "Bookable hotel = new Hotel(100);\n",
    "System.out.println(hotel.price(2));\n",
    "Bookable palace = new Palace(100, 50);\n",
    "System.out.println(palace.price(2));\n"
   ]
  },
  {
   "cell_type": "markdown",
   "metadata": {},
   "source": [
    "상속이 가능한 클래스(즉, final 이 아닌 클래스)의 경우\n",
    "- public 메소드 사이에 의존성이 있어서는 안된다!!!"
   ]
  },
  {
   "cell_type": "markdown",
   "metadata": {},
   "source": [
    "예를 들어서 List같은 데이터 구조를 다루는 클래스 `C<T>`에\n",
    "- `public T get(int i);` 인덱스 i이 원소 하나를 리턴\n",
    "- `public C<T> getMany(int i, int j);` i부터 j까지 여러개를 묶어서 리턴\n",
    "\n",
    "객체지향 어쩌고 이런 복잡한 생각 없이 일반적으로 함수는 작성하면 재사용하는 것이 좋으니\n",
    "getMany에서 반복문을 돌리면서 get을 호출하는 게 OOP가 아니라면 정상\n",
    "\n",
    "근데 C<T>가 상속 가능한 클래스이면 그렇게 해서는 안됨"
   ]
  },
  {
   "cell_type": "markdown",
   "metadata": {},
   "source": [
    "## Use delegation not inheritance\n",
    "Sometimes people are using inheritance where they should not !\n",
    "The worst occurrences is when people want __members inheritance__\n",
    "to avoid to write too many methods but forget that they get\n",
    "all the methods even the one they don't want.\n"
   ]
  },
  {
   "cell_type": "markdown",
   "metadata": {},
   "source": [
    "The problem is that if a class has a lot of methods, you are sure\n",
    "that at least one will not work correctly with the subclass.\n"
   ]
  },
  {
   "cell_type": "markdown",
   "metadata": {},
   "source": [
    "By example, this is a snippet of how the class `java.util.Properties`\n",
    "is defined in JDK. Because it inherits from `Hashtable<Object, Object>`,\n",
    "it means you can store a value which is not a String but get it as a String.\n"
   ]
  },
  {
   "cell_type": "markdown",
   "metadata": {},
   "source": [
    "Obviously, it will not work at runtime\n"
   ]
  },
  {
   "cell_type": "code",
   "execution_count": 19,
   "metadata": {},
   "outputs": [
    {
     "name": "stdout",
     "output_type": "stream",
     "text": [
      "42\n"
     ]
    }
   ],
   "source": [
    "class Properties extends Hashtable<Object, Object> {\n",
    "  public String getProperty(String key, String defaultValue) {\n",
    "    Objects.requireNonNull(key);\n",
    "    return getOrDefault(key, defaultValue).toString();\n",
    "  }\n",
    "  public void setProperty(String key, String value) {\n",
    "    Objects.requireNonNull(key);\n",
    "    Objects.requireNonNull(value);\n",
    "    put(key, value);\n",
    "  }\n",
    "}\n",
    "var properties = new Properties();\n",
    "properties.put(\"java\", 42);\n",
    "System.out.println(properties.getProperty(\"java\", \"??\"));\n"
   ]
  },
  {
   "cell_type": "markdown",
   "metadata": {},
   "source": [
    "The traditional advice is if you want to use part of an existing\n",
    "implementation, instead of inherits from that class, store it\n",
    "in a field and so your method can delegate a part of their implementations.\n"
   ]
  },
  {
   "cell_type": "markdown",
   "metadata": {},
   "source": [
    "So for the class `Properties`, it should be implemented like this\n"
   ]
  },
  {
   "cell_type": "code",
   "execution_count": 15,
   "metadata": {},
   "outputs": [
    {
     "name": "stdout",
     "output_type": "stream",
     "text": [
      "best language ever, for life !\n",
      "??\n"
     ]
    }
   ],
   "source": [
    "class Properties {\n",
    "  private final HashMap<String, String> map = new HashMap<>();\n",
    "  public String getProperty(String key, String defaultValue) {\n",
    "    Objects.requireNonNull(key);\n",
    "    return map.getOrDefault(key, defaultValue);\n",
    "  }\n",
    "  public void setProperty(String key, String value) {\n",
    "    Objects.requireNonNull(key);\n",
    "    Objects.requireNonNull(value);\n",
    "    map.put(key, value);\n",
    "  }\n",
    "}\n",
    "var properties = new Properties();\n",
    "properties.setProperty(\"java\", \"best language ever, for life !\");\n",
    "System.out.println(properties.getProperty(\"java\", \"??\"));\n",
    "System.out.println(properties.getProperty(\"brainfuck\", \"??\"));\n"
   ]
  },
  {
   "cell_type": "markdown",
   "metadata": {},
   "source": [
    "> Always prefer delegation to inheritance\n"
   ]
  }
 ],
 "metadata": {
  "kernelspec": {
   "display_name": "Java (rjk 2.1.0)",
   "language": "java",
   "name": "rapaio-jupyter-kernel"
  },
  "language_info": {
   "codemirror_mode": "java",
   "file_extension": ".jshell",
   "mimetype": "text/x-java-source",
   "name": "java",
   "nbconvert_exporter": "script",
   "pygments_lexer": "java",
   "version": "22.0.2+9"
  }
 },
 "nbformat": 4,
 "nbformat_minor": 4
}
