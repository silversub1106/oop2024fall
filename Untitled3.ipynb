{
 "cells": [
  {
   "cell_type": "code",
   "execution_count": 5,
   "id": "8d87f325-2823-455b-8779-54082dd9052f",
   "metadata": {},
   "outputs": [],
   "source": [
    "record Pair<F,S>(F first, S second){ }"
   ]
  },
  {
   "cell_type": "code",
   "execution_count": 12,
   "id": "0d47e42b-3094-46e6-8e14-eb4e9669068d",
   "metadata": {},
   "outputs": [
    {
     "name": "stdout",
     "output_type": "stream",
     "text": [
      "port\n"
     ]
    }
   ],
   "source": [
    "var pair = new Pair<String, Integer>(\"port\",8080);\n",
    "String first = pair.first();\n",
    "int second = pair.second();\n",
    "System.out.println(pair.first());"
   ]
  },
  {
   "cell_type": "code",
   "execution_count": 13,
   "id": "da333211-927f-4d9f-9a81-0e150cac5af8",
   "metadata": {},
   "outputs": [],
   "source": [
    "var pair1 = new Pair<String, Integer>(\"port\",8080);\n",
    "var pair2 = new Pair<String, String>(\"CaptainAmerica\",\"shield\");"
   ]
  },
  {
   "cell_type": "code",
   "execution_count": 15,
   "id": "f27f0313-db8e-4bd3-8590-016850a08351",
   "metadata": {},
   "outputs": [],
   "source": [
    "record Pair<F, S>(F first, S second) {\n",
    "  static void hello() {\n",
    "    // can not access F and S here !\n",
    "    new Integer(3);\n",
    "    // new F(); // 에러\n",
    "  }\n",
    "}\n"
   ]
  },
  {
   "cell_type": "code",
   "execution_count": 16,
   "id": "ddd98286-f04d-4c64-8560-01c7c4bb4570",
   "metadata": {},
   "outputs": [],
   "source": [
    "Pair.hello()"
   ]
  },
  {
   "cell_type": "code",
   "execution_count": 17,
   "id": "aaae5d85-36f3-4210-a815-1722b523cc3f",
   "metadata": {},
   "outputs": [
    {
     "ename": "CompilerException",
     "evalue": "",
     "output_type": "error",
     "traceback": [
      "\u001b[0m\u001b[1m\u001b[31mCompile error:\u001b[0m",
      "\u001b[0m\u001b[1m|    pair<String, Intger>.hello\u001b[0m\u001b[1m\u001b[48;2;235;145;148m\u001b[0m\u001b[1m()\u001b[0m",
      "\u001b[0m\u001b[1m                               ^\u001b[0m",
      "\u001b[0m\u001b[1m\u001b[34millegal start of type\u001b[0m",
      ""
     ]
    }
   ],
   "source": [
    "pair<String, Intger>.hello()"
   ]
  },
  {
   "cell_type": "code",
   "execution_count": 21,
   "id": "33c212e3-c4f4-414b-930c-ddae815535fd",
   "metadata": {},
   "outputs": [
    {
     "name": "stdout",
     "output_type": "stream",
     "text": [
      "day\n"
     ]
    }
   ],
   "source": [
    "Object chooseOne(Object o1, Object o2) {\n",
    "  var random = ThreadLocalRandom.current();\n",
    "  return random.nextBoolean()? o1: o2;\n",
    "}\n",
    "\n",
    "String s = chooseOne(\"day\",\"night\").toString();\n",
    "\n",
    "System.out.println(s);"
   ]
  },
  {
   "cell_type": "code",
   "execution_count": 23,
   "id": "fd640400-c76d-443f-b0b7-50947111d2a6",
   "metadata": {},
   "outputs": [
    {
     "name": "stdout",
     "output_type": "stream",
     "text": [
      "10\n"
     ]
    }
   ],
   "source": [
    "var a = 10;\n",
    "System.out.println(a);"
   ]
  },
  {
   "cell_type": "code",
   "execution_count": null,
   "id": "4013a7f6-91e8-486d-9ea3-3353a9d14954",
   "metadata": {},
   "outputs": [],
   "source": []
  }
 ],
 "metadata": {
  "kernelspec": {
   "display_name": "Java (rjk 2.1.0)",
   "language": "java",
   "name": "rapaio-jupyter-kernel"
  },
  "language_info": {
   "codemirror_mode": "java",
   "file_extension": ".jshell",
   "mimetype": "text/x-java-source",
   "name": "java",
   "nbconvert_exporter": "script",
   "pygments_lexer": "java",
   "version": "22.0.2+9"
  }
 },
 "nbformat": 4,
 "nbformat_minor": 5
}
