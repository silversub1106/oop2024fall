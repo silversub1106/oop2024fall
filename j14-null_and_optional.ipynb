{
 "cells": [
  {
   "cell_type": "markdown",
   "metadata": {},
   "source": [
    "# `null`과 `Optional`"
   ]
  },
  {
   "cell_type": "markdown",
   "metadata": {},
   "source": [
    "자바에서 참조 타입의 값은 `null`을 포함하며 참조할 어떤 객체(object)도 없음을 의미한다.\n",
    "\n",
    "`null` 참조에 대해 메소드를 호출하려 하면 `NullPointerException`이 발생한다.\n",
    "\n",
    "초보 자바 프로그래머의 실수로 `NullPointerException` 발생시키며 프로그램이 종료되는 일은 흔히 일어나곤 한다."
   ]
  },
  {
   "cell_type": "markdown",
   "metadata": {},
   "source": [
    "`null`을 역참조(dereference, 참조 타입의 값에 해당하는 객체의 내용을 가져오기)하는 것을 피하는 방법은 크게 두 가지로 나누어 생각할 수 있다.\n",
    "1. 참조 타입의 값을 읽을 때마다 (메소드 호출도 여기에 포함) 매번 `null`인지 검사하여 처리하기\n",
    "2. `null`로 초기화하거나 대입하지 않도록 방어하기"
   ]
  },
  {
   "cell_type": "markdown",
   "metadata": {},
   "source": [
    "첫째 방법, 그러니깨 매번 읽을 때마다 검사하는 방법을 먼저 생각해 보자."
   ]
  },
  {
   "cell_type": "code",
   "execution_count": 1,
   "metadata": {},
   "outputs": [],
   "source": [
    "record Person(String name) {\n",
    "  public String toString() {\n",
    "    return \"hello \" + name.toString(); \n",
    "  }\n",
    "}"
   ]
  },
  {
   "cell_type": "markdown",
   "metadata": {},
   "source": [
    "You get an exception if you write\n"
   ]
  },
  {
   "cell_type": "code",
   "execution_count": 2,
   "metadata": {},
   "outputs": [
    {
     "ename": "EvalException",
     "evalue": "Cannot invoke \"String.toString()\" because \"this.name\" is null",
     "output_type": "error",
     "traceback": [
      "\u001b[0m\u001b[1m\u001b[31mjava.lang.NullPointerException: Cannot invoke \"String.toString()\" because \"this.name\" is null\n\u001b[0m",
      "\u001b[0m\u001b[1m\u001b[34m   at Person.toString(#2:3)\u001b[0m",
      "\u001b[0m\u001b[0m\u001b[1m|    record Person(String name) {\u001b[0m",
      "\u001b[0m\u001b[0m\u001b[1m|      public String toString() {\u001b[0m",
      "\u001b[0m\u001b[0m\u001b[1m|-->     return \"hello \" + name.toString(); \u001b[0m",
      "\u001b[0m\u001b[0m\u001b[1m|      }\u001b[0m",
      "\u001b[0m\u001b[0m\u001b[1m|    }\u001b[0m",
      "\u001b[0m\u001b[1m\u001b[34m   at java.base/java.lang.String.valueOf(String.java:4507)\u001b[0m",
      "\u001b[0m\u001b[1m\u001b[34m   at java.base/java.io.PrintStream.println(PrintStream.java:1187)\u001b[0m",
      "\u001b[0m\u001b[1m\u001b[34m   at .(#3:1)\u001b[0m",
      "\u001b[0m\u001b[0m\u001b[1m|--> System.out.println(new Person(null));\u001b[0m"
     ]
    }
   ],
   "source": [
    "System.out.println(new Person(null));"
   ]
  },
  {
   "cell_type": "markdown",
   "metadata": {},
   "source": [
    "아래와 같이 매번 검사하는 것은 좀 바보같은 방법이다."
   ]
  },
  {
   "cell_type": "code",
   "execution_count": 4,
   "metadata": {},
   "outputs": [
    {
     "name": "stdout",
     "output_type": "stream",
     "text": [
      "hello unnamed\n"
     ]
    }
   ],
   "source": [
    "record Person(String name) {\n",
    "  public String toString() {\n",
    "    if (name == null) {\n",
    "      return \"hello unnamed\"; \n",
    "    }\n",
    "    return \"hello \" + name.toString(); \n",
    "  }\n",
    "}\n",
    "System.out.println(new Person(null));\n"
   ]
  },
  {
   "cell_type": "markdown",
   "metadata": {},
   "source": [
    "왜냐하면 `null`인 경우 어떤 값으로 대체해야 할지 의미를 억지로 생각해 내야 하기 때문이다."
   ]
  },
  {
   "cell_type": "markdown",
   "metadata": {},
   "source": [
    "그래서 일반적으로 애초에 객체가 생성될 때 멤버가 `null`로 초기화되지 못하도록 하는 것이 낫다."
   ]
  },
  {
   "cell_type": "code",
   "execution_count": 5,
   "metadata": {},
   "outputs": [],
   "source": [
    "record Person(String name) {\n",
    "  public Person {   // it's a compact constructor\n",
    "    Objects.requireNonNull(name);\n",
    "  }\n",
    "  public String toString() {\n",
    "    return \"hello \" + name.toString(); \n",
    "  }\n",
    "}"
   ]
  },
  {
   "cell_type": "code",
   "execution_count": 6,
   "metadata": {},
   "outputs": [
    {
     "ename": "EvalException",
     "evalue": "",
     "output_type": "error",
     "traceback": [
      "\u001b[0m\u001b[1m\u001b[31mjava.lang.NullPointerException: null\n\u001b[0m",
      "\u001b[0m\u001b[1m\u001b[34m   at java.base/java.util.Objects.requireNonNull(Objects.java:220)\u001b[0m",
      "\u001b[0m\u001b[1m\u001b[34m   at Person.<init>(#2:3)\u001b[0m",
      "\u001b[0m\u001b[0m\u001b[1m|    record Person(String name) {\u001b[0m",
      "\u001b[0m\u001b[0m\u001b[1m|      public String toString() {\u001b[0m",
      "\u001b[0m\u001b[0m\u001b[1m|-->     return \"hello \" + name.toString(); \u001b[0m",
      "\u001b[0m\u001b[0m\u001b[1m|      }\u001b[0m",
      "\u001b[0m\u001b[0m\u001b[1m|    }\u001b[0m",
      "\u001b[0m\u001b[1m\u001b[34m   at .(#6:1)\u001b[0m",
      "\u001b[0m\u001b[0m\u001b[1m|--> // 생성자를 활용할 때 `null`로 초기화하려면면 예외없이 항상 NullPointerException 발생\u001b[0m",
      "\u001b[0m\u001b[0m\u001b[1m|    new Person(null);\u001b[0m"
     ]
    }
   ],
   "source": [
    "// 생성자를 활용할 때 `null`로 초기화하려면면 예외없이 항상 NullPointerException 발생\n",
    "new Person(null); "
   ]
  },
  {
   "cell_type": "markdown",
   "metadata": {},
   "source": [
    "한 곳에서 나던 `NullPointerException`을 또 다른 곳에서 발생시킬 뿐인데 뭐가 더 나아졌는가 의문이 들 수 도 있다.\n",
    "\n",
    "하지만 분명한 차이가 있는데, `NullPointerException`이 `toString()`에서 발생하는 경우는 `null`을 구성요소(또는 필드)로 포함하는 `Person` 객체가 있더라도 발생할 수도 있고 발생하지 않을 수도 있어 프로그램 사용자의 입장에서는 **무작위로 발생하는 듯**하게 보일 수 있다. 왜냐하면 `toString()`을 모든 객체에 대해 항상 호출하는 것은 아니기 때문이다.\n",
    "\n",
    "하지만 생성자에서 검사하여 `NullPointerException`을 발생시키는 경우는 `null`로 구성요소를 초기화하려 할 때매다 **예외없이 일관되게** `NullPointerException`이 발생하므로, 문제가 있는지 더 빨리 알아차릴 수 있고 문제의 원인이 무엇인지도 더 쉽게 분석할 가능성이 높아질 것이다."
   ]
  },
  {
   "cell_type": "markdown",
   "metadata": {},
   "source": [
    "그러므로 자바에서 불필요한 `NullPointerException`을 피하려면 다음과 같은 방식으로 코드를 작성하라\n",
    "- 객체의 멤버가 `null`로 초기화되지 못하도록 생성자에서 막아라\n",
    "- 메소드에서 절대로 `null`을 리턴하지 말라 (`Optional`을 활용하거나 빈 컬렉션을 리턴)\n",
    "\n",
    "물론 효율적으로 데이터 구조를 구현하기 위해 `null` 참조가 정말 꼭 필요한 경우도 있을 수 있지만,\n",
    "이는 패키지 내부의 구현으로만 활용하고 외부에 공개하여 드러내지 말아야 한다."
   ]
  },
  {
   "cell_type": "markdown",
   "metadata": {},
   "source": [
    "## 방어적 프로그래밍 Defensive programming\n",
    "\n",
    "외부에서 `null`이 제공되지 않을 것이라는 가정을 하지 말고, 예상치 못하게 `null`이 들어오는 경우에 대해서도 능동적으로 대처하는 코드를 작성하라.\n",
    " "
   ]
  },
  {
   "cell_type": "markdown",
   "metadata": {},
   "source": [
    "The best way to not store null in a field (or a record component) is to reject any attempt\n",
    "to call a public method with `null` as argument. So any public methods should call\n",
    "`Objects.requireNonNull()` on all their arguments that are references.\n"
   ]
  },
  {
   "cell_type": "code",
   "execution_count": null,
   "metadata": {},
   "outputs": [],
   "source": [
    "record Animal(String kind, boolean wild) {\n",
    "  public Animal {\n",
    "    Objects.requireNonNull(kind);\n",
    "    // no need to do a requireNonNull on 'wild', a boolean can not be null\n",
    "  }\n",
    "  public boolean isDangerousWith(Animal animal) {\n",
    "    Objects.requireNonNull(animal);\n",
    "    return wild || !kind.equals(animal.kind);\n",
    "  }\n",
    "}\n",
    "new Animal(null, true);\n"
   ]
  },
  {
   "cell_type": "markdown",
   "metadata": {},
   "source": [
    "### Map.get()\n"
   ]
  },
  {
   "cell_type": "markdown",
   "metadata": {},
   "source": [
    "You may sometimes want to pass null to a public method or return null from a method\n",
    "but it should be an exceptional case and it should be documented\n"
   ]
  },
  {
   "cell_type": "markdown",
   "metadata": {},
   "source": [
    "A good example is `Map.get(key)` that is used a lot and is specified to return `null`\n",
    "if the key is not stored in the map. refer to use `Map.getOrDefault()` instead\n"
   ]
  },
  {
   "cell_type": "code",
   "execution_count": 7,
   "metadata": {},
   "outputs": [
    {
     "name": "stdout",
     "output_type": "stream",
     "text": [
      "null\n",
      "0\n"
     ]
    }
   ],
   "source": [
    "var map = Map.of(\"John\", 5, \"Paul\", 7);\n",
    "System.out.println(map.get(\"Lena\"));\n",
    "System.out.println(map.getOrDefault(\"Lena\", 0));\n"
   ]
  },
  {
   "cell_type": "markdown",
   "metadata": {},
   "source": [
    "See chapter 'list and map' for more information.\n"
   ]
  },
  {
   "cell_type": "markdown",
   "metadata": {},
   "source": [
    "## `Optional`\n",
    "`Optional`은 함수의 정상적인 결과값을 하나 리턴할 수도 있지만 결과값이 존재하지 않는 경우도 발생할 때 활용할 수 있도록 제공되는 클래스다.\n",
    "결과값이 존재하지 않을 때 `null`을 리턴하는 대신 `Optional`에서 비어 있음을 뜻하는 객체를 리턴할 수 있다.\n",
    "`Optional` 타입을 리턴받으면 정상적인 값을 하나 포함하는지 아니면 비어 있는지 고려하도록 강제한다.\n",
    "\n",
    "주의할 점은 `Optional` 안에 `null`을 포함시키지 말아야 한다는 점이다. 애초에 `null` 참조로 인한 폐혜를 방어하기 위한 목적인데 그 안에 정상적인 값으로 `null`을 포장하도록 `Optional`을 사용해서는 안된다."
   ]
  },
  {
   "cell_type": "markdown",
   "metadata": {},
   "source": [
    "In the following code a `Car` has a color and optionally has a driver"
   ]
  },
  {
   "cell_type": "code",
   "execution_count": null,
   "metadata": {},
   "outputs": [],
   "source": [
    "public class Car {\n",
    "  private final Person driver;  // may be null\n",
    "  private final String color;\n",
    "  public Car(String color, Person driver) {\n",
    "    this.color = Objects.requireNonNull(color);\n",
    "    this.driver = driver;  // may be null\n",
    "  }\n",
    "  public String color() {\n",
    "    return color;\n",
    "  }\n",
    "  public Optional<Person> driver() {\n",
    "      // 클래스 내부적으로는 운전자가 탑승하지 않았으면 null로 처리하지만\n",
    "      // 외부에 리턴할 때는 Optional 타입을 활용\n",
    "    return Optional.ofNullable(driver);\n",
    "  }\n",
    "}\n"
   ]
  },
  {
   "cell_type": "markdown",
   "metadata": {},
   "source": [
    "Trying to call a method of `Person` on an `Optional`, obviously doesn't work\n"
   ]
  },
  {
   "cell_type": "code",
   "execution_count": null,
   "metadata": {},
   "outputs": [],
   "source": [
    "var car = new Car(\"red\", null);\n",
    "var name = car.driver().name(); // doesn't compile\n"
   ]
  },
  {
   "cell_type": "markdown",
   "metadata": {},
   "source": [
    "so the user code as to be changed to handle `Optional`, and the fact that\n",
    "an `Optional` can be empty\n"
   ]
  },
  {
   "cell_type": "code",
   "execution_count": null,
   "metadata": {},
   "outputs": [],
   "source": [
    "var car = new Car(\"red\", null);\n",
    "var name = car.driver().map(Person::name).orElse(\"autopilot\");\n",
    "System.out.println(name);\n"
   ]
  },
  {
   "cell_type": "markdown",
   "metadata": {},
   "source": [
    "> Don't use Optional for anything else than a return type\n",
    "> Never store null in an Optional because it defeats its purpose.\n"
   ]
  }
 ],
 "metadata": {
  "kernelspec": {
   "display_name": "Java (rjk 2.1.0)",
   "language": "java",
   "name": "rapaio-jupyter-kernel"
  },
  "language_info": {
   "codemirror_mode": "java",
   "file_extension": ".jshell",
   "mimetype": "text/x-java-source",
   "name": "java",
   "nbconvert_exporter": "script",
   "pygments_lexer": "java",
   "version": "22.0.2+9"
  }
 },
 "nbformat": 4,
 "nbformat_minor": 4
}
