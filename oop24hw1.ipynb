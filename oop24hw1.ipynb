{
 "cells": [
  {
   "cell_type": "markdown",
   "id": "49b2bb3f-8a94-4aba-bf67-6b97d86c0047",
   "metadata": {},
   "source": [
    "# OOP (2024 Fall) HW1: 불변 순서쌍을 활용해 가변 순서쌍 만들기 \n",
    "- 이름: 이은섭\n",
    "- 학번: 20210508\n",
    "\n"
   ]
  },
  {
   "cell_type": "markdown",
   "id": "9c3c24aa-19ac-4c88-a228-0d1686034a24",
   "metadata": {},
   "source": [
    "-----\n",
    "## Part A: 불변 순서쌍 Pair\n",
    "1. 클래스(또는 정적) 팩토리 메소드 `of`를 를 수정하여 완성하라.\n",
    "    - https://velog.io/@cjh8746/%EC%A0%95%EC%A0%81-%ED%8C%A9%ED%86%A0%EB%A6%AC-%EB%A9%94%EC%84%9C%EB%93%9CStatic-Factory-Method\n",
    "1. 주석 부분을 풀어 제너릭 클래스인 `Pair`가 제너릭 인터페이스 `Comparable`를 구현하도록 완성하라.\n",
    "    - https://docs.oracle.com/en/java/javase/22/docs/api/java.base/java/lang/Comparable.html"
   ]
  },
  {
   "cell_type": "code",
   "execution_count": 110,
   "id": "f2b4bcb7-9d9c-494a-9762-ca0700c6f762",
   "metadata": {},
   "outputs": [],
   "source": [
    "record Pair<F extends Comparable<F>, S extends Comparable<S>>(F first, S second) implements Comparable<Pair<F,S>> {\n",
    "    \n",
    "    // 아래 팩토리 메소드 of가 컴파일되지 않고 있으니 컴파일되도록 수정하라 (힌트: 제너릭 메소드)\n",
    "    //pair생성 하는거\n",
    "    //static뒤에 <>는 어떤 자료형이든 가능하도록 하는거\n",
    "    //extends 어쩌구 -> 이타입의 변수끼리 비교가능\n",
    "    static <F extends Comparable<F>,S extends Comparable<S>> Pair<F,S> of (F first, S second) {\n",
    "        return new Pair<>(first, second);\n",
    "    }\n",
    "    \n",
    "    // 사전순이 되도록 정의하기. 즉 first가 더 큰 쪽이 더 크고, first가 같으면 second를 비교\n",
    "    // @Override -> Comparable사용하기 위해 재정의, compareTo는 Comparable 인터페이스의 메서드 \n",
    "    // 2개의 페어를 비교인지 한개의 페어속에 F랑 S를 비교하는건지 모르겠음 근데 위에 주석보면 전자같음 아니면 그냥 25점 날라가는것 이해력이 유감\n",
    "    // x.compareTo(y) 에서 Pair<F,S> -> this -> x, other -> y\n",
    "    public int compareTo(Pair<F,S> other) {\n",
    "        if (this.first() == other.first()){\n",
    "            return this.second.compareTo(other.second());\n",
    "        }\n",
    "        return this.first.compareTo(other.first());\n",
    "    }\n",
    "    \n",
    "}"
   ]
  },
  {
   "cell_type": "code",
   "execution_count": 112,
   "id": "5fb5b2ac-4ac0-40cc-9f87-1675177e4baa",
   "metadata": {},
   "outputs": [
    {
     "name": "stdout",
     "output_type": "stream",
     "text": [
      "2\n",
      "0\n",
      "-2\n"
     ]
    }
   ],
   "source": [
    "// compareTo결과가 \n",
    "// 0보다 작으면 x<y\n",
    "// 0이면 x==y\n",
    "// 0보다 크면 x>y\n",
    "\n",
    "// x>y인 경우, 결과예상 -> 0이상\n",
    "var p1 = Pair.of(\"3\",\"1\");\n",
    "var p2 = Pair.of(\"1\",\"2\");\n",
    "// x==y인 경우, 결과예상 -> 0\n",
    "// char도 잘된다\n",
    "var p3 = Pair.of(\"b\",\"d\");\n",
    "var p4 = Pair.of(\"b\",\"d\");\n",
    "// x<y인 경우, 결과예상 -> 0이하\n",
    "var p5 = Pair.of(\"1\",\"5\");\n",
    "var p6 = Pair.of(\"3\",\"2\");\n",
    "\n",
    "System.out.println( p1.compareTo(p2) );\n",
    "System.out.println( p3.compareTo(p4) );\n",
    "System.out.println( p5.compareTo(p6) );"
   ]
  },
  {
   "cell_type": "markdown",
   "id": "e2774a64-250e-4e89-a536-5a8ed42bb4ce",
   "metadata": {},
   "source": [
    "------\n",
    "## Part B: 가변 순서쌍 ModifiablePair\n",
    "\n",
    "불변 순서쌍만을 priviate 필드로 갖고 있는 가변 순서쌍 제너릭 클래스를 작성하라\n",
    "\n",
    "가변 순서쌍은 불변 순서쌍과 마찬가지 이름의 getter 메소드가 있고 추가로 setter 메소드도 있다.\n",
    "\n",
    "또, 가변 순서쌍도 불변 순서쌍과 마찬가지로 Comparable 제너릭 인터페이스를 구현하라.\n"
   ]
  },
  {
   "cell_type": "code",
   "execution_count": 120,
   "id": "38eb649f-d95e-40d8-a33b-658df4ee4a7f",
   "metadata": {},
   "outputs": [
    {
     "ename": "CompilerException",
     "evalue": "",
     "output_type": "error",
     "traceback": [
      "\u001b[0m\u001b[1m\u001b[31mCompile error:\u001b[0m",
      "\u001b[0m\u001b[1m|    \u001b[0m\u001b[1m\u001b[48;2;235;145;148mclass ModifiablePair< F extends Comparable<F>, S extends Comparable<S>> implements Comparable<Pair<F,S>> {\u001b[0m\u001b[1m\u001b[0m",
      "\u001b[0m\u001b[1m|    \u001b[0m\u001b[1m\u001b[48;2;235;145;148m    private Pair<F,S> pair; // 이 field 말고 다른 field는 추가로 정의하지 말 것!\u001b[0m\u001b[1m\u001b[0m",
      "\u001b[0m\u001b[1m|    \u001b[0m\u001b[1m\u001b[48;2;235;145;148m\u001b[0m\u001b[1m\u001b[0m",
      "\u001b[0m\u001b[1m     ^\u001b[0m",
      "\u001b[0m\u001b[1m|    \u001b[0m\u001b[1m\u001b[48;2;235;145;148m    ModifiablePair(F first, S second) {\u001b[0m\u001b[1m\u001b[0m",
      "\u001b[0m\u001b[1m|    \u001b[0m\u001b[1m\u001b[48;2;235;145;148m        throw new UnsupportedOperationException(\"Not implemented yet\");\u001b[0m\u001b[1m\u001b[0m",
      "\u001b[0m\u001b[1m|    \u001b[0m\u001b[1m\u001b[48;2;235;145;148m    }\u001b[0m\u001b[1m\u001b[0m",
      "\u001b[0m\u001b[1m|    \u001b[0m\u001b[1m\u001b[48;2;235;145;148m    \u001b[0m\u001b[1m\u001b[0m",
      "\u001b[0m\u001b[1m|    \u001b[0m\u001b[1m\u001b[48;2;235;145;148m    // getter들은 pair에게 위임(delegate)하는 방식으로 작성하라\u001b[0m\u001b[1m\u001b[0m",
      "\u001b[0m\u001b[1m|    \u001b[0m\u001b[1m\u001b[48;2;235;145;148m    public F first() {\u001b[0m\u001b[1m\u001b[0m",
      "\u001b[0m\u001b[1m|    \u001b[0m\u001b[1m\u001b[48;2;235;145;148m        throw new UnsupportedOperationException(\"Not implemented yet\");\u001b[0m\u001b[1m\u001b[0m",
      "\u001b[0m\u001b[1m|    \u001b[0m\u001b[1m\u001b[48;2;235;145;148m    }\u001b[0m\u001b[1m\u001b[0m",
      "\u001b[0m\u001b[1m|    \u001b[0m\u001b[1m\u001b[48;2;235;145;148m    public S second() {\u001b[0m\u001b[1m\u001b[0m",
      "\u001b[0m\u001b[1m|    \u001b[0m\u001b[1m\u001b[48;2;235;145;148m        throw new UnsupportedOperationException(\"Not implemented yet\");\u001b[0m\u001b[1m\u001b[0m",
      "\u001b[0m\u001b[1m|    \u001b[0m\u001b[1m\u001b[48;2;235;145;148m    }\u001b[0m\u001b[1m\u001b[0m",
      "\u001b[0m\u001b[1m|    \u001b[0m\u001b[1m\u001b[48;2;235;145;148m    \u001b[0m\u001b[1m\u001b[0m",
      "\u001b[0m\u001b[1m|    \u001b[0m\u001b[1m\u001b[48;2;235;145;148m    // setter들은 적절히 정의하라 \u001b[0m\u001b[1m\u001b[0m",
      "\u001b[0m\u001b[1m|    \u001b[0m\u001b[1m\u001b[48;2;235;145;148m    // setter란 초기값을 다른값으로 변환시켜주는 역할\u001b[0m\u001b[1m\u001b[0m",
      "\u001b[0m\u001b[1m|    \u001b[0m\u001b[1m\u001b[48;2;235;145;148m    public void setFirst(F first) {\u001b[0m\u001b[1m\u001b[0m",
      "\u001b[0m\u001b[1m|    \u001b[0m\u001b[1m\u001b[48;2;235;145;148m        throw new UnsupportedOperationException(\"Not implemented yet\");\u001b[0m\u001b[1m\u001b[0m",
      "\u001b[0m\u001b[1m|    \u001b[0m\u001b[1m\u001b[48;2;235;145;148m    }\u001b[0m\u001b[1m\u001b[0m",
      "\u001b[0m\u001b[1m|    \u001b[0m\u001b[1m\u001b[48;2;235;145;148m    public void setSecond(S second) {\u001b[0m\u001b[1m\u001b[0m",
      "\u001b[0m\u001b[1m|    \u001b[0m\u001b[1m\u001b[48;2;235;145;148m        throw new UnsupportedOperationException(\"Not implemented yet\");\u001b[0m\u001b[1m\u001b[0m",
      "\u001b[0m\u001b[1m|    \u001b[0m\u001b[1m\u001b[48;2;235;145;148m    }\u001b[0m\u001b[1m\u001b[0m",
      "\u001b[0m\u001b[1m|    \u001b[0m\u001b[1m\u001b[48;2;235;145;148m\u001b[0m\u001b[1m\u001b[0m",
      "\u001b[0m\u001b[1m     ^\u001b[0m",
      "\u001b[0m\u001b[1m|    \u001b[0m\u001b[1m\u001b[48;2;235;145;148m    /*\u001b[0m\u001b[1m\u001b[0m",
      "\u001b[0m\u001b[1m|    \u001b[0m\u001b[1m\u001b[48;2;235;145;148m    // compareTo는 pair에게 위임(delegate)하는 방식으로 작성하라\u001b[0m\u001b[1m\u001b[0m",
      "\u001b[0m\u001b[1m|    \u001b[0m\u001b[1m\u001b[48;2;235;145;148m    @Override\u001b[0m\u001b[1m\u001b[0m",
      "\u001b[0m\u001b[1m|    \u001b[0m\u001b[1m\u001b[48;2;235;145;148m    public int compareTo(...) {\u001b[0m\u001b[1m\u001b[0m",
      "\u001b[0m\u001b[1m|    \u001b[0m\u001b[1m\u001b[48;2;235;145;148m    }\u001b[0m\u001b[1m\u001b[0m",
      "\u001b[0m\u001b[1m|    \u001b[0m\u001b[1m\u001b[48;2;235;145;148m    */\u001b[0m\u001b[1m\u001b[0m",
      "\u001b[0m\u001b[1m|    \u001b[0m\u001b[1m\u001b[48;2;235;145;148m\u001b[0m\u001b[1m\u001b[0m",
      "\u001b[0m\u001b[1m     ^\u001b[0m",
      "\u001b[0m\u001b[1m|    \u001b[0m\u001b[1m\u001b[48;2;235;145;148m    @Override\u001b[0m\u001b[1m\u001b[0m",
      "\u001b[0m\u001b[1m|    \u001b[0m\u001b[1m\u001b[48;2;235;145;148m    public String toString() { \u001b[0m\u001b[1m\u001b[0m",
      "\u001b[0m\u001b[1m|    \u001b[0m\u001b[1m\u001b[48;2;235;145;148m        return pair.toString(); // toString은 그냥 pair에게 위임\u001b[0m\u001b[1m\u001b[0m",
      "\u001b[0m\u001b[1m|    \u001b[0m\u001b[1m\u001b[48;2;235;145;148m    }\u001b[0m\u001b[1m\u001b[0m",
      "\u001b[0m\u001b[1m|    \u001b[0m\u001b[1m\u001b[48;2;235;145;148m}\u001b[0m\u001b[1m\u001b[0m",
      "\u001b[0m\u001b[1m\u001b[34mModifiablePair is not abstract and does not override abstract method compareTo(Pair<F,S>) in java.lang.Comparable\u001b[0m",
      ""
     ]
    }
   ],
   "source": [
    "class ModifiablePair< F extends Comparable<F>, S extends Comparable<S>> implements Comparable<Pair<F,S>> {\n",
    "    private Pair<F,S> pair; // 이 field 말고 다른 field는 추가로 정의하지 말 것!\n",
    "\n",
    "    ModifiablePair(F first, S second) {\n",
    "        throw new UnsupportedOperationException(\"Not implemented yet\");\n",
    "    }\n",
    "    \n",
    "    // getter들은 pair에게 위임(delegate)하는 방식으로 작성하라\n",
    "    public F first() {\n",
    "        throw new UnsupportedOperationException(\"Not implemented yet\");\n",
    "    }\n",
    "    public S second() {\n",
    "        throw new UnsupportedOperationException(\"Not implemented yet\");\n",
    "    }\n",
    "    \n",
    "    // setter들은 적절히 정의하라 \n",
    "    // setter란 초기값을 다른값으로 변환시켜주는 역할\n",
    "    public void setFirst(F first) {\n",
    "        throw new UnsupportedOperationException(\"Not implemented yet\");\n",
    "    }\n",
    "    public void setSecond(S second) {\n",
    "        throw new UnsupportedOperationException(\"Not implemented yet\");\n",
    "    }\n",
    "\n",
    "    \n",
    "    // compareTo는 pair에게 위임(delegate)하는 방식으로 작성하라\n",
    "    // @Override\n",
    "    public int compareTo(Pair<> other) {\n",
    "        \n",
    "    }\n",
    "    \n",
    "\n",
    "    @Override\n",
    "    public String toString() { \n",
    "        return pair.toString(); // toString은 그냥 pair에게 위임\n",
    "    }\n",
    "}"
   ]
  },
  {
   "cell_type": "code",
   "execution_count": 4,
   "id": "57af3b33-b9db-43bd-a8e7-5b35d97aaf5e",
   "metadata": {},
   "outputs": [],
   "source": [
    "// ModifiablePair<F,S>의 getter와 setter들이 잘 동작하는지 확인할 수 있는 적절한 테스트 코드 작성하여 실행하라.\n",
    "// 그러니까 `first()`, `second()`, `setFrist(F)`, `setSecond(S)` 메소드를 모두 활용하는 예시 코드를 작성해 실행하라는 말이다."
   ]
  },
  {
   "cell_type": "code",
   "execution_count": 5,
   "id": "e0b9e66e-d3fa-4485-b6f6-4075eca8fcf3",
   "metadata": {},
   "outputs": [],
   "source": [
    "/* 가변 순써상에 대해서도\n",
    "  compareTo 가 잘 동작하는지\n",
    "   - 왼쪽이 더 큰 경우\n",
    "   - 왼쪽이 더 작은 경우\n",
    "   - 같은 경우\n",
    "   이런 경우를 각각 포함하도록 이렇게 최소 3개 이상의 테스트를 실행해 보라\n",
    "*/"
   ]
  }
 ],
 "metadata": {
  "kernelspec": {
   "display_name": "Java (rjk 2.1.0)",
   "language": "java",
   "name": "rapaio-jupyter-kernel"
  },
  "language_info": {
   "codemirror_mode": "java",
   "file_extension": ".jshell",
   "mimetype": "text/x-java-source",
   "name": "java",
   "nbconvert_exporter": "script",
   "pygments_lexer": "java",
   "version": "22.0.2+9"
  }
 },
 "nbformat": 4,
 "nbformat_minor": 5
}
